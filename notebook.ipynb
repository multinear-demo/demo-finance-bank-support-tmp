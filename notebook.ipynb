{
 "cells": [
  {
   "cell_type": "code",
   "execution_count": 3,
   "id": "a3d37ad9-879e-496c-83f6-36a1f9cb1eb0",
   "metadata": {},
   "outputs": [
    {
     "data": {
      "text/html": [
       "<pre style=\"white-space:pre;overflow-x:auto;line-height:normal;font-family:Menlo,'DejaVu Sans Mono',consolas,'Courier New',monospace\"><span style=\"font-weight: bold\">Logfire</span> project URL: <a href=\"https://logfire.pydantic.dev/kuchin/tests\" target=\"_blank\"><span style=\"color: #008080; text-decoration-color: #008080; text-decoration: underline\">https://logfire.pydantic.dev/kuchin/tests</span></a>\n",
       "</pre>\n"
      ],
      "text/plain": [
       "\u001b[1mLogfire\u001b[0m project URL: \u001b]8;id=906755;https://logfire.pydantic.dev/kuchin/tests\u001b\\\u001b[4;36mhttps://logfire.pydantic.dev/kuchin/tests\u001b[0m\u001b]8;;\u001b\\\n"
      ]
     },
     "metadata": {},
     "output_type": "display_data"
    },
    {
     "name": "stdout",
     "output_type": "stream",
     "text": [
      "<openai.OpenAI object at 0x10b7dc5c0>\n",
      "- loaded bank docs\n",
      "- created bank index\n",
      "14:22:43.958 Chat Completion with 'gpt-4o' [LLM]\n",
      "To unblock your credit card, log in to Internet Banking and navigate to the 'Accounts' page. Click on the credit card you wish to unblock. Next to the 'Manage your card' heading, click 'Unblock this card'. A confirmation screen will appear, and if you are happy to proceed, click 'Yes' to confirm the unblock.\n"
     ]
    }
   ],
   "source": [
    "from llama_index.core import VectorStoreIndex, SimpleDirectoryReader, ServiceContext\n",
    "from llama_index.core.tools import QueryEngineTool, ToolMetadata\n",
    "from llama_index.core.query_engine import SubQuestionQueryEngine\n",
    "from llama_index.llms.openai import OpenAI\n",
    "from llama_index.core.llms import ChatMessage\n",
    "import os\n",
    "from typing import Tuple, List\n",
    "from dotenv import load_dotenv\n",
    "load_dotenv()\n",
    "import logfire\n",
    "\n",
    "logfire.configure()\n",
    "\n",
    "from llama_index.core import Settings\n",
    "Settings.llm = OpenAI(temperature=0.2, model=\"gpt-4o\")\n",
    "print(Settings.llm._get_client())\n",
    "logfire.instrument_openai(Settings.llm._client)\n",
    "\n",
    "bank_docs = SimpleDirectoryReader(input_files=[\"./data/acme_bank_faq.txt\"]).load_data()\n",
    "print(\"- loaded bank docs\")\n",
    "bank_index = VectorStoreIndex.from_documents(bank_docs)\n",
    "print(\"- created bank index\")\n",
    "bank_engine = bank_index.as_query_engine()\n",
    "print(bank_engine.query(\"How do I unblock my credit card?\"))\n"
   ]
  },
  {
   "cell_type": "code",
   "execution_count": null,
   "id": "61f9f3f1-fb36-4bc0-9414-be5512e85b59",
   "metadata": {},
   "outputs": [],
   "source": []
  }
 ],
 "metadata": {
  "kernelspec": {
   "display_name": "Python 3 (ipykernel)",
   "language": "python",
   "name": "python3"
  },
  "language_info": {
   "codemirror_mode": {
    "name": "ipython",
    "version": 3
   },
   "file_extension": ".py",
   "mimetype": "text/x-python",
   "name": "python",
   "nbconvert_exporter": "python",
   "pygments_lexer": "ipython3",
   "version": "3.12.6"
  }
 },
 "nbformat": 4,
 "nbformat_minor": 5
}
