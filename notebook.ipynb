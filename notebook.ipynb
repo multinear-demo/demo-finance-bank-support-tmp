{
 "cells": [
  {
   "cell_type": "code",
   "execution_count": 1,
   "id": "a3d37ad9-879e-496c-83f6-36a1f9cb1eb0",
   "metadata": {},
   "outputs": [
    {
     "name": "stdout",
     "output_type": "stream",
     "text": [
      "- loaded bank docs\n",
      "- created bank index\n",
      "To unblock your credit card, log into your online banking account securely. Navigate to the Accounts Overview and click on the credit card you wish to modify. Under 'Manage Your Card,' select 'Block/Unblock' and follow the pop-up instructions to confirm the unblocking.\n"
     ]
    }
   ],
   "source": [
    "from llama_index.core import VectorStoreIndex, SimpleDirectoryReader\n",
    "from llama_index.llms.openai import OpenAI\n",
    "from dotenv import load_dotenv\n",
    "load_dotenv()\n",
    "\n",
    "from llama_index.core import Settings\n",
    "Settings.llm = OpenAI(temperature=0.2, model=\"gpt-4o\")\n",
    "\n",
    "bank_docs = SimpleDirectoryReader(input_files=[\"./data/acme_bank_faq.txt\"]).load_data()\n",
    "print(\"- loaded bank docs\")\n",
    "bank_index = VectorStoreIndex.from_documents(bank_docs)\n",
    "print(\"- created bank index\")\n",
    "bank_engine = bank_index.as_query_engine()\n",
    "print(bank_engine.query(\"How do I unblock my credit card?\"))\n"
   ]
  },
  {
   "cell_type": "code",
   "execution_count": null,
   "id": "61f9f3f1-fb36-4bc0-9414-be5512e85b59",
   "metadata": {},
   "outputs": [],
   "source": []
  }
 ],
 "metadata": {
  "kernelspec": {
   "display_name": "Python 3 (ipykernel)",
   "language": "python",
   "name": "python3"
  },
  "language_info": {
   "codemirror_mode": {
    "name": "ipython",
    "version": 3
   },
   "file_extension": ".py",
   "mimetype": "text/x-python",
   "name": "python",
   "nbconvert_exporter": "python",
   "pygments_lexer": "ipython3",
   "version": "3.12.6"
  }
 },
 "nbformat": 4,
 "nbformat_minor": 5
}
